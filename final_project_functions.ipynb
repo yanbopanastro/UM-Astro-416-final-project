{
 "cells": [
  {
   "cell_type": "code",
   "execution_count": 2,
   "id": "8f57b506",
   "metadata": {},
   "outputs": [],
   "source": [
    "import numpy as np\n",
    "import matplotlib.pyplot as plt\n",
    "from sklearn.metrics import confusion_matrix\n",
    "\n",
    "def plot_confusion_matrix(model, X_test, y_test, label_encoder, ordered_labels, title='Confusion Matrix'):\n",
    "    \"\"\"\n",
    "    Plot a confusion matrix with red boxes around the diagonal.\n",
    "\n",
    "    Parameters:\n",
    "        model: Trained Keras model\n",
    "        X_test: Test feature data\n",
    "        y_test: One-hot encoded true labels\n",
    "        label_encoder: sklearn LabelEncoder instance (fitted)\n",
    "        ordered_labels: List of labels in desired display order\n",
    "        title: Title for the plot\n",
    "    \"\"\"\n",
    "    # Predict class probabilities on the test set\n",
    "    y_pred_probs = model.predict(X_test)\n",
    "    y_pred_classes = y_pred_probs.argmax(axis=1)  # Take class with highest probability\n",
    "\n",
    "    # Decode true and predicted labels back to string labels\n",
    "    y_test_labels = label_encoder.inverse_transform(y_test.argmax(axis=1))\n",
    "    y_pred_labels = label_encoder.inverse_transform(y_pred_classes)\n",
    "\n",
    "    # Compute confusion matrix\n",
    "    cm = confusion_matrix(y_test_labels, y_pred_labels, labels=ordered_labels)\n",
    "\n",
    "    # Create the plot\n",
    "    fig, ax = plt.subplots(figsize=(8, 6))\n",
    "    cax = ax.matshow(cm, cmap='Blues')  # Display confusion matrix as a color map\n",
    "    fig.colorbar(cax)\n",
    "\n",
    "    # Set axis ticks and labels\n",
    "    ax.set_xticks(np.arange(len(ordered_labels)))\n",
    "    ax.set_yticks(np.arange(len(ordered_labels)))\n",
    "    ax.set_xticklabels(ordered_labels, rotation=45)\n",
    "    ax.set_yticklabels(ordered_labels)\n",
    "    ax.set_xlabel('Predicted Label')\n",
    "    ax.set_ylabel('True Label')\n",
    "    ax.set_title(title, pad=20)\n",
    "\n",
    "    # Annotate each cell with its count and highlight the diagonal\n",
    "    for i in range(len(ordered_labels)):\n",
    "        for j in range(len(ordered_labels)):\n",
    "            ax.text(j, i, str(cm[i, j]),\n",
    "                    va='center', ha='center',\n",
    "                    color='white' if cm[i, j] > cm.max()/2 else 'black')\n",
    "            # Highlight correct predictions with a red box\n",
    "            if i == j:\n",
    "                rect = plt.Rectangle((j - 0.5, i - 0.5), 1, 1, fill=False,\n",
    "                                     edgecolor='red', linewidth=2)\n",
    "                ax.add_patch(rect)\n",
    "\n",
    "    plt.tight_layout()\n",
    "    plt.show()\n"
   ]
  },
  {
   "cell_type": "code",
   "execution_count": null,
   "id": "79ce8431",
   "metadata": {},
   "outputs": [],
   "source": []
  }
 ],
 "metadata": {
  "kernelspec": {
   "display_name": "astro-416",
   "language": "python",
   "name": "astro-416"
  },
  "language_info": {
   "codemirror_mode": {
    "name": "ipython",
    "version": 3
   },
   "file_extension": ".py",
   "mimetype": "text/x-python",
   "name": "python",
   "nbconvert_exporter": "python",
   "pygments_lexer": "ipython3",
   "version": "3.11.11"
  }
 },
 "nbformat": 4,
 "nbformat_minor": 5
}
